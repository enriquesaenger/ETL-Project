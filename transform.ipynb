{
 "cells": [
  {
   "cell_type": "markdown",
   "execution_count": null,
   "metadata": {},
   "outputs": [],
   "source": [
    "# Dependencies"
   ]
  },
  {
   "cell_type": "code",
   "execution_count": 1,
   "metadata": {},
   "outputs": [],
   "source": [
    "import pandas as pd"
   ]
  },
  {
   "cell_type": "markdown",
   "execution_count": null,
   "metadata": {},
   "outputs": [],
   "source": [
    "## Enrique's Code Goes Here"
   ]
  },
  {
   "cell_type": "code",
   "execution_count": 2,
   "metadata": {},
   "outputs": [
    {
     "data": {
      "text/html": "<div>\n<style scoped>\n    .dataframe tbody tr th:only-of-type {\n        vertical-align: middle;\n    }\n\n    .dataframe tbody tr th {\n        vertical-align: top;\n    }\n\n    .dataframe thead th {\n        text-align: right;\n    }\n</style>\n<table border=\"1\" class=\"dataframe\">\n  <thead>\n    <tr style=\"text-align: right;\">\n      <th></th>\n      <th>brewery_name</th>\n      <th>type</th>\n      <th>address</th>\n      <th>website</th>\n      <th>state</th>\n      <th>state_breweries</th>\n    </tr>\n  </thead>\n  <tbody>\n    <tr>\n      <td>0</td>\n      <td>Valley Brewing Co.</td>\n      <td>Brewpub</td>\n      <td>PO Box 4653, Stockton, California, 95204</td>\n      <td>http://www.valleybrew.com/</td>\n      <td>california</td>\n      <td>284</td>\n    </tr>\n    <tr>\n      <td>1</td>\n      <td>Valley Brewing Co.</td>\n      <td>Brewpub</td>\n      <td>157 Adams St., Stockton, California, 95204</td>\n      <td>http://www.valleybrew.com/</td>\n      <td>california</td>\n      <td>284</td>\n    </tr>\n    <tr>\n      <td>2</td>\n      <td>Valley Brewing Co</td>\n      <td>Microbrewery</td>\n      <td>1950 W Freemont, Stockton, California, 95203</td>\n      <td>http://www.valleybrew.com/</td>\n      <td>california</td>\n      <td>284</td>\n    </tr>\n    <tr>\n      <td>3</td>\n      <td>Ukiah Brewing Company</td>\n      <td>Brewpub</td>\n      <td>102 S. State St., Ukiah, California, 95482</td>\n      <td>http://www.ukiahbrewingco.com/</td>\n      <td>california</td>\n      <td>284</td>\n    </tr>\n    <tr>\n      <td>4</td>\n      <td>Tustin Brewing Co.</td>\n      <td>Brewpub</td>\n      <td>13011 Newport Ave. #100, Tustin, California, 9...</td>\n      <td>http://www.tustinbrewery.com/</td>\n      <td>california</td>\n      <td>284</td>\n    </tr>\n  </tbody>\n</table>\n</div>",
      "text/plain": "            brewery_name          type  \\\n0     Valley Brewing Co.       Brewpub   \n1     Valley Brewing Co.       Brewpub   \n2      Valley Brewing Co  Microbrewery   \n3  Ukiah Brewing Company       Brewpub   \n4     Tustin Brewing Co.       Brewpub   \n\n                                             address  \\\n0           PO Box 4653, Stockton, California, 95204   \n1         157 Adams St., Stockton, California, 95204   \n2       1950 W Freemont, Stockton, California, 95203   \n3         102 S. State St., Ukiah, California, 95482   \n4  13011 Newport Ave. #100, Tustin, California, 9...   \n\n                          website       state  state_breweries  \n0      http://www.valleybrew.com/  california              284  \n1      http://www.valleybrew.com/  california              284  \n2      http://www.valleybrew.com/  california              284  \n3  http://www.ukiahbrewingco.com/  california              284  \n4   http://www.tustinbrewery.com/  california              284  "
     },
     "execution_count": 2,
     "metadata": {},
     "output_type": "execute_result"
    }
   ],
   "source": [
    "csv_path = \"Resources/breweries_us.csv\"\n",
    "breweries_csv = pd.read_csv(csv_path)\n",
    "breweries_csv.head()"
   ]
  },
  {
   "cell_type": "code",
   "execution_count": 3,
   "metadata": {},
   "outputs": [
    {
     "data": {
      "text/html": "<div>\n<style scoped>\n    .dataframe tbody tr th:only-of-type {\n        vertical-align: middle;\n    }\n\n    .dataframe tbody tr th {\n        vertical-align: top;\n    }\n\n    .dataframe thead th {\n        text-align: right;\n    }\n</style>\n<table border=\"1\" class=\"dataframe\">\n  <thead>\n    <tr style=\"text-align: right;\">\n      <th></th>\n      <th>brewery_name</th>\n      <th>brewery_address</th>\n    </tr>\n  </thead>\n  <tbody>\n    <tr>\n      <td>0</td>\n      <td>Valley Brewing Co.</td>\n      <td>PO Box 4653, Stockton, California, 95204</td>\n    </tr>\n    <tr>\n      <td>1</td>\n      <td>Valley Brewing Co.</td>\n      <td>157 Adams St., Stockton, California, 95204</td>\n    </tr>\n    <tr>\n      <td>2</td>\n      <td>Valley Brewing Co</td>\n      <td>1950 W Freemont, Stockton, California, 95203</td>\n    </tr>\n    <tr>\n      <td>3</td>\n      <td>Ukiah Brewing Company</td>\n      <td>102 S. State St., Ukiah, California, 95482</td>\n    </tr>\n    <tr>\n      <td>4</td>\n      <td>Tustin Brewing Co.</td>\n      <td>13011 Newport Ave. #100, Tustin, California, 9...</td>\n    </tr>\n  </tbody>\n</table>\n</div>",
      "text/plain": "            brewery_name                                    brewery_address\n0     Valley Brewing Co.           PO Box 4653, Stockton, California, 95204\n1     Valley Brewing Co.         157 Adams St., Stockton, California, 95204\n2      Valley Brewing Co       1950 W Freemont, Stockton, California, 95203\n3  Ukiah Brewing Company         102 S. State St., Ukiah, California, 95482\n4     Tustin Brewing Co.  13011 Newport Ave. #100, Tustin, California, 9..."
     },
     "execution_count": 3,
     "metadata": {},
     "output_type": "execute_result"
    }
   ],
   "source": [
    "breweries_columns = ['brewery_name', 'address']\n",
    "breweries_df = breweries_csv[breweries_columns]\n",
    "breweries_df = breweries_df.rename(columns={'address': 'brewery_address'})\n",
    "breweries_df.head()"
   ]
  },
  {
   "cell_type": "code",
   "execution_count": 10,
   "metadata": {},
   "outputs": [
    {
     "data": {
      "text/html": "<div>\n<style scoped>\n    .dataframe tbody tr th:only-of-type {\n        vertical-align: middle;\n    }\n\n    .dataframe tbody tr th {\n        vertical-align: top;\n    }\n\n    .dataframe thead th {\n        text-align: right;\n    }\n</style>\n<table border=\"1\" class=\"dataframe\">\n  <thead>\n    <tr style=\"text-align: right;\">\n      <th></th>\n      <th>brewery_name</th>\n      <th>brewery_address</th>\n    </tr>\n    <tr>\n      <th>zipcode</th>\n      <th></th>\n      <th></th>\n    </tr>\n  </thead>\n  <tbody>\n    <tr>\n      <td>95204</td>\n      <td>Valley Brewing Co.</td>\n      <td>PO Box 4653, Stockton, California, 95204</td>\n    </tr>\n    <tr>\n      <td>95204</td>\n      <td>Valley Brewing Co.</td>\n      <td>157 Adams St., Stockton, California, 95204</td>\n    </tr>\n    <tr>\n      <td>95203</td>\n      <td>Valley Brewing Co</td>\n      <td>1950 W Freemont, Stockton, California, 95203</td>\n    </tr>\n    <tr>\n      <td>95482</td>\n      <td>Ukiah Brewing Company</td>\n      <td>102 S. State St., Ukiah, California, 95482</td>\n    </tr>\n    <tr>\n      <td>92780</td>\n      <td>Tustin Brewing Co.</td>\n      <td>13011 Newport Ave. #100, Tustin, California, 9...</td>\n    </tr>\n  </tbody>\n</table>\n</div>",
      "text/plain": "                  brewery_name  \\\nzipcode                          \n95204       Valley Brewing Co.   \n95204       Valley Brewing Co.   \n95203        Valley Brewing Co   \n95482    Ukiah Brewing Company   \n92780       Tustin Brewing Co.   \n\n                                           brewery_address  \nzipcode                                                     \n95204             PO Box 4653, Stockton, California, 95204  \n95204           157 Adams St., Stockton, California, 95204  \n95203         1950 W Freemont, Stockton, California, 95203  \n95482           102 S. State St., Ukiah, California, 95482  \n92780    13011 Newport Ave. #100, Tustin, California, 9...  "
     },
     "execution_count": 10,
     "metadata": {},
     "output_type": "execute_result"
    }
   ],
   "source": [
    "zipcode_list = []\n",
    "for index, row in breweries_df.iterrows():\n",
    "    zipcode_list.append(row['brewery_address'][-5:])\n",
    "breweries_df['zipcode'] = zipcode_list\n",
    "breweries_df.dropna()\n",
    "breweries_df.drop_duplicates('zipcode')\n",
    "breweries_df = breweries_df[['zipcode', 'brewery_name', 'brewery_address']]\n",
    "breweries_df.set_index('zipcode', inplace=True)\n",
    "breweries_df.head()"
   ]
  },
  {
   "cell_type": "markdown",
   "execution_count": null,
   "metadata": {},
   "outputs": [],
   "source": [
    "##### End of Enrique's Code"
   ]
  },
  {
   "cell_type": "markdown",
   "execution_count": null,
   "metadata": {},
   "outputs": [],
   "source": [
    "## Jake's Code Goes Here"
   ]
  },
  {
   "cell_type": "code",
   "execution_count": null,
   "metadata": {},
   "outputs": [],
   "source": []
  },
  {
   "cell_type": "code",
   "execution_count": null,
   "metadata": {},
   "outputs": [],
   "source": []
  },
  {
   "cell_type": "code",
   "execution_count": null,
   "metadata": {},
   "outputs": [],
   "source": []
  },
  {
   "cell_type": "markdown",
   "execution_count": null,
   "metadata": {},
   "outputs": [],
   "source": [
    "##### End of Jake's Code"
   ]
  },
  {
   "cell_type": "code",
   "execution_count": null,
   "metadata": {},
   "outputs": [],
   "source": []
  }
 ],
 "metadata": {
  "kernelspec": {
   "display_name": "Python 3",
   "language": "python",
   "name": "python3"
  },
  "language_info": {
   "codemirror_mode": {
    "name": "ipython",
    "version": 3
   },
   "file_extension": ".py",
   "mimetype": "text/x-python",
   "name": "python",
   "nbconvert_exporter": "python",
   "pygments_lexer": "ipython3",
   "version": "3.7.4-final"
  }
 },
 "nbformat": 4,
 "nbformat_minor": 4
}