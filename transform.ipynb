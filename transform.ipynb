{
 "cells": [
  {
   "cell_type": "markdown",
   "metadata": {},
   "source": [
    "# Dependencies"
   ]
  },
  {
   "cell_type": "code",
   "execution_count": null,
   "metadata": {},
   "outputs": [],
   "source": [
    "import pandas as pd"
   ]
  },
  {
   "cell_type": "markdown",
   "metadata": {},
   "source": [
    "## Enrique's Code Goes Here"
   ]
  },
  {
   "cell_type": "code",
   "execution_count": null,
   "metadata": {},
   "outputs": [],
   "source": [
    "# set path to csv\n",
    "csv_path = \"Resources/breweries_us.csv\"\n",
    "# read in the csv\n",
    "breweries_csv = pd.read_csv(csv_path)\n",
    "# drop any rows with na\n",
    "breweries_csv = breweries_csv.dropna()\n",
    "# show length of dataframe\n",
    "print(f'Length of DataFrame: {len(breweries_csv)}')\n",
    "# show the dataframe\n",
    "breweries_csv.head()"
   ]
  },
  {
   "cell_type": "code",
   "execution_count": null,
   "metadata": {},
   "outputs": [],
   "source": [
    "# create list of columns wanted\n",
    "breweries_columns = ['brewery_name', 'address']\n",
    "# create a new dataframe with the needed column names\n",
    "breweries_df = breweries_csv[breweries_columns].copy()\n",
    "# rename columns\n",
    "breweries_df = breweries_df.rename(columns={'address': 'brewery_address'})\n",
    "# show length of dataframe\n",
    "print(f'Length of DataFrame: {len(breweries_df)}')\n",
    "# show the dataframe\n",
    "breweries_df.head()"
   ]
  },
  {
   "cell_type": "code",
   "execution_count": null,
   "metadata": {},
   "outputs": [],
   "source": [
    "# create a list to house zipcodes\n",
    "zipcode_list = []\n",
    "# iterate through rows and pull out zipcodes\n",
    "for index, row in breweries_df.iterrows():\n",
    "    zipcode_list.append(row['brewery_address'][-5:])\n",
    "# show length of list\n",
    "print(f'Length of List: {len(zipcode_list)}')"
   ]
  },
  {
   "cell_type": "code",
   "execution_count": null,
   "metadata": {},
   "outputs": [],
   "source": [
    "# create a series of the zipcodes\n",
    "zipcode_series = pd.Series(zipcode_list)\n",
    "# turn them into ints, if not possible, turns into NaN\n",
    "zipcode_series = pd.to_numeric(zipcode_series, errors='coerce')\n",
    "# add to the dataframe\n",
    "breweries_df['zipcode'] = zipcode_series\n",
    "# show length of dataframe\n",
    "print(f'Length of DataFrame: {len(breweries_df)}')\n",
    "# show the dataframe\n",
    "breweries_df.head()"
   ]
  },
  {
   "cell_type": "code",
   "execution_count": null,
   "metadata": {},
   "outputs": [],
   "source": [
    "# drop the NaN values\n",
    "breweries_df = breweries_df.dropna()\n",
    "# convert the zipcodes to ints\n",
    "breweries_df['zipcode'] = breweries_df['zipcode'].astype(int)\n",
    "# convert the zipcodes to strings\n",
    "breweries_df['zipcode'] = breweries_df['zipcode'].astype(str)\n",
    "# loop through dataframe\n",
    "for index, row in breweries_df.iterrows():\n",
    "    length = len(row['zipcode'])\n",
    "    # if the zipcode only has 4 digits, add a leading 0\n",
    "    if length == 4:\n",
    "        zcode = row['zipcode']\n",
    "        new_zcode = '0'+zcode\n",
    "        row['zipcode'] = new_zcode\n",
    "# drop duplicates if needed\n",
    "breweries_df.drop_duplicates('zipcode')\n",
    "# show length of dataframe\n",
    "print(f'Length of DataFrame: {len(breweries_df)}')\n",
    "# show the dataframe\n",
    "breweries_df.head()"
   ]
  },
  {
   "cell_type": "code",
   "execution_count": null,
   "metadata": {},
   "outputs": [],
   "source": [
    "# reorder rows\n",
    "breweries_df = breweries_df[['zipcode', 'brewery_name', 'brewery_address']]\n",
    "# set zipcode as index\n",
    "breweries_df.set_index('zipcode', inplace=True)\n",
    "# show the dataframe\n",
    "breweries_df"
   ]
  },
  {
   "cell_type": "code",
   "execution_count": null,
   "metadata": {},
   "outputs": [],
   "source": [
    "breweries_df.to_csv('output.csv')"
   ]
  },
  {
   "cell_type": "markdown",
   "metadata": {},
   "source": [
    "##### End of Enrique's Code"
   ]
  },
  {
   "cell_type": "markdown",
   "metadata": {},
   "source": [
    "## Jake's Code Goes Here"
   ]
  },
  {
   "cell_type": "code",
   "execution_count": null,
   "metadata": {},
   "outputs": [],
   "source": [
    "path = \"Resources/one-star-michelin-restaurants.csv\"\n",
    "michelin_csv = pd.read_csv(path)\n",
    "michelin_csv.head()"
   ]
  },
  {
   "cell_type": "code",
   "execution_count": null,
   "metadata": {},
   "outputs": [],
   "source": [
    "michelin_columns = ['zipCode', 'name', 'city']\n",
    "michelin_df = michelin_csv[michelin_columns]\n",
    "michelin_df = michelin_df.rename(columns={'zipCode': 'zipcode', 'name': 'restaurant_name', 'city': 'restaurant_city'})\n",
    "michelin_df.set_index('zipcode', inplace=True)\n",
    "michelin_df.head()"
   ]
  },
  {
   "cell_type": "code",
   "execution_count": null,
   "metadata": {},
   "outputs": [],
   "source": []
  },
  {
   "cell_type": "markdown",
   "metadata": {},
   "source": [
    "##### End of Jake's Code"
   ]
  },
  {
   "cell_type": "code",
   "execution_count": null,
   "metadata": {},
   "outputs": [],
   "source": []
  }
 ],
 "metadata": {
  "kernelspec": {
   "display_name": "Python 3",
   "language": "python",
   "name": "python3"
  },
  "language_info": {
   "codemirror_mode": {
    "name": "ipython",
    "version": 3
   },
   "file_extension": ".py",
   "mimetype": "text/x-python",
   "name": "python",
   "nbconvert_exporter": "python",
   "pygments_lexer": "ipython3",
   "version": "3.6.9"
  }
 },
 "nbformat": 4,
 "nbformat_minor": 4
}
