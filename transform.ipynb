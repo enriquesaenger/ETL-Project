{
 "cells": [
  {
   "cell_type": "markdown",
   "metadata": {},
   "source": [
    "# Dependencies"
   ]
  },
  {
   "cell_type": "code",
   "execution_count": null,
   "metadata": {},
   "outputs": [],
   "source": [
    "import pandas as pd"
   ]
  },
  {
   "cell_type": "markdown",
   "metadata": {},
   "source": [
    "## Enrique's Code Goes Here"
   ]
  },
  {
   "cell_type": "code",
   "execution_count": null,
   "metadata": {},
   "outputs": [],
   "source": [
    "csv_path = \"Resources/breweries_us.csv\"\n",
    "breweries_csv = pd.read_csv(csv_path)\n",
    "breweries_csv.head()"
   ]
  },
  {
   "cell_type": "code",
   "execution_count": null,
   "metadata": {},
   "outputs": [],
   "source": [
    "breweries_columns = ['brewery_name', 'address']\n",
    "breweries_df = breweries_csv[breweries_columns]\n",
    "breweries_df = breweries_df.rename(columns={'address': 'brewery_address'})\n",
    "breweries_df.head()"
   ]
  },
  {
   "cell_type": "code",
   "execution_count": null,
   "metadata": {},
   "outputs": [],
   "source": [
    "zipcode_list = []\n",
    "for index, row in breweries_df.iterrows():\n",
    "    zipcode_list.append(row['brewery_address'][-5:])\n",
    "breweries_df['zipcode'] = zipcode_list\n",
    "breweries_df.dropna()\n",
    "breweries_df.drop_duplicates('zipcode')\n",
    "breweries_df = breweries_df[['zipcode', 'brewery_name', 'brewery_address']]\n",
    "breweries_df.set_index('zipcode', inplace=True)\n",
    "breweries_df.head()"
   ]
  },
  {
   "cell_type": "markdown",
   "metadata": {},
   "source": [
    "##### End of Enrique's Code"
   ]
  },
  {
   "cell_type": "markdown",
   "metadata": {},
   "source": [
    "## Jake's Code Goes Here"
   ]
  },
  {
   "cell_type": "code",
   "execution_count": null,
   "metadata": {},
   "outputs": [],
   "source": [
    "path = \"Resources/one-star-michelin-restaurants.csv\"\n",
    "michelin_csv = pd.read_csv(path)\n",
    "michelin_csv.head()"
   ]
  },
  {
   "cell_type": "code",
   "execution_count": null,
   "metadata": {},
   "outputs": [],
   "source": [
    "michelin_columns = ['zipCode', 'name', 'city']\n",
    "michelin_df = michelin_csv[michelin_columns]\n",
    "michelin_df.dropna()\n",
    "michelin_df.drop_duplicates('name')"
   ]
  },
  {
   "cell_type": "code",
   "execution_count": null,
   "metadata": {},
   "outputs": [],
   "source": [
    "\n",
    "michelin_df = michelin_df.rename(columns={'zipCode': 'zipcode', 'name': 'restaurant_name', 'city': 'restaurant_city'})\n",
    "michelin_df.set_index('zipcode', inplace=True)\n",
    "michelin_df.head()"
   ]
  },
  {
   "cell_type": "markdown",
   "metadata": {},
   "source": [
    "##### End of Jake's Code"
   ]
  },
  {
   "cell_type": "code",
   "execution_count": null,
   "metadata": {},
   "outputs": [],
   "source": []
  }
 ],
 "metadata": {
  "kernelspec": {
   "display_name": "Python 3",
   "language": "python",
   "name": "python3"
  },
  "language_info": {
   "codemirror_mode": {
    "name": "ipython",
    "version": 3
   },
   "file_extension": ".py",
   "mimetype": "text/x-python",
   "name": "python",
   "nbconvert_exporter": "python",
   "pygments_lexer": "ipython3",
   "version": "3.6.9"
  }
 },
 "nbformat": 4,
 "nbformat_minor": 4
}
